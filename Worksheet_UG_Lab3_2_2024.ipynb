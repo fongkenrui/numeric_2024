{
 "cells": [
  {
   "cell_type": "markdown",
   "id": "1533bd8e",
   "metadata": {},
   "source": [
    "Names: Fong Ken Rui, Yuki Torigata, Sayana Imash"
   ]
  },
  {
   "cell_type": "code",
   "execution_count": 1,
   "id": "8be05185",
   "metadata": {},
   "outputs": [],
   "source": [
    "# your import statements\n",
    "import numpy as np\n",
    "import matplotlib.pyplot as plt"
   ]
  },
  {
   "cell_type": "markdown",
   "id": "c17b4ce4",
   "metadata": {},
   "source": [
    "Consider a long hallway (length $L$) in an office building. If we assume that any\n",
    "cigarette smoke mixes across the width of the hallway and vertically\n",
    "through the depth of the hallway much faster than it mixes along the\n",
    "hallway, we can write the diffusion of cigarette smoke as an equation\n",
    "$$\\frac {\\partial S} {\\partial t}\n",
    "= \\frac {\\partial \\kappa \\partial S}{\\partial x^2}$$\n",
    "where $S$ is the concentration of smoke, $\\kappa$ is the rate of diffusion of\n",
    "smoke, t is the time and x is\n",
    "distance along the hallway.  At the centre of the hallway is the smoker and here the smoke is 5 su (smoke units).  At one end of the hallway (x=0) is an open window, here the smoke is 0. At the other end of the hallway (x=L) is a closed window (no smoke through the closed window)."
   ]
  },
  {
   "cell_type": "markdown",
   "id": "9eb3d006",
   "metadata": {},
   "source": [
    "**Question 1**\n",
    "\n",
    "Under what conditions can you move $\\kappa$ outside the derivative?  Make that assumption here, and also make the steady state assumption.  What is your new differential equation?"
   ]
  },
  {
   "cell_type": "markdown",
   "id": "5f110569",
   "metadata": {},
   "source": [
    "If $\\kappa$ is not a function of x, it can be moved outside the derivative.\n",
    "\n",
    "The new differential equation is given by\n",
    "$\n",
    "\\kappa \\dfrac{\\partial^2 S}{\\partial x^2} = 0\n",
    "$\n"
   ]
  },
  {
   "cell_type": "markdown",
   "id": "ace733e0",
   "metadata": {},
   "source": [
    "**Question 2**\n",
    "\n",
    "Using a centre-difference scheme, separating your hallway into $N=10$ divisions (so $N+1=11$ grid points) write down linear equations for the 1th to $N/2-1=4$th grid points and the $N/2+1=6$th to $N-1=9$th grid points. Note that the 0th and $N=10$th grid points are boundary points and there is a special condition at the $N/2=5$th grid point."
   ]
  },
  {
   "cell_type": "markdown",
   "id": "b0f3282e",
   "metadata": {},
   "source": [
    "$\n",
    "[S(x_0) -2 S(x_1) + S(x_2)] = 0\n",
    "$\n",
    "\n",
    "$\n",
    "[S(x_1) -2 S(x_2) + S(x_3)] = 0\n",
    "$\n",
    "\n",
    "$\n",
    "[S(x_2) -2 S(x_3) + S(x_4)] = 0\n",
    "$\n",
    "\n",
    "$\n",
    "[S(x_3) -2 S(x_4) + S(x_5)] = 0\n",
    "$\n",
    "\n",
    "$\n",
    "[S(x_5) -2 S(x_6) + S(x_7)] = 0\n",
    "$\n",
    "\n",
    "$\n",
    "[S(x_6) -2 S(x_7) + S(x_8)] = 0\n",
    "$\n",
    "\n",
    "$\n",
    "[S(x_7) -2 S(x_8) + S(x_9)] = 0\n",
    "$\n",
    "\n",
    "$\n",
    "[S(x_8) -2 S(x_9) + S(x_{10)}] = 0\n",
    "$\n"
   ]
  },
  {
   "cell_type": "markdown",
   "id": "6bcb3435",
   "metadata": {},
   "source": [
    "**Question 3**\n",
    "\n",
    "What type of boundary condition is at $x=0$ (0th grid point)?  Write it as linear equation."
   ]
  },
  {
   "cell_type": "markdown",
   "id": "1abcc6cf",
   "metadata": {},
   "source": [
    "It is a Dirichlet boundary condition. \n",
    "\n",
    "$S(x_0) = 0$"
   ]
  },
  {
   "cell_type": "markdown",
   "id": "305884ee",
   "metadata": {},
   "source": [
    "**Question 4**\n",
    "\n",
    "What type of boundary condition is at $x=L$ (N=10th grid point)?  Write it as linear equation."
   ]
  },
  {
   "cell_type": "markdown",
   "id": "9f3f791b",
   "metadata": {},
   "source": [
    "It is a Neumann boundary condition. \n",
    "\n",
    "$S(x_{10}) - S(x_9) = 0$"
   ]
  },
  {
   "cell_type": "markdown",
   "id": "3ffd3078",
   "metadata": {},
   "source": [
    "**Question 5**\n",
    "\n",
    "Consider the condition at the centre of the hallway ($x=L/2$, $N/2=5$th grid point) Write it as linear equation."
   ]
  },
  {
   "cell_type": "markdown",
   "id": "648910b3",
   "metadata": {},
   "source": [
    "$\n",
    "S(x_5) = 5\n",
    "$"
   ]
  },
  {
   "cell_type": "markdown",
   "id": "68450247",
   "metadata": {},
   "source": [
    "**Question 6**\n",
    "\n",
    "Put all your equations into a matrix equation and solve the matrix equation.  Plot the solution."
   ]
  },
  {
   "cell_type": "code",
   "execution_count": 2,
   "id": "defdbab2-0ba6-44b1-bf7a-094753ba12ec",
   "metadata": {},
   "outputs": [
    {
     "name": "stdout",
     "output_type": "stream",
     "text": [
      "[[ 1.  0.  0.  0.  0.  0.  0.  0.  0.  0.  0.]\n",
      " [ 1. -2.  1.  0.  0.  0.  0.  0.  0.  0.  0.]\n",
      " [ 0.  1. -2.  1.  0.  0.  0.  0.  0.  0.  0.]\n",
      " [ 0.  0.  1. -2.  1.  0.  0.  0.  0.  0.  0.]\n",
      " [ 0.  0.  0.  1. -2.  1.  0.  0.  0.  0.  0.]\n",
      " [ 0.  0.  0.  0.  0.  1.  0.  0.  0.  0.  0.]\n",
      " [ 0.  0.  0.  0.  0.  1. -2.  1.  0.  0.  0.]\n",
      " [ 0.  0.  0.  0.  0.  0.  1. -2.  1.  0.  0.]\n",
      " [ 0.  0.  0.  0.  0.  0.  0.  1. -2.  1.  0.]\n",
      " [ 0.  0.  0.  0.  0.  0.  0.  0.  1. -2.  1.]\n",
      " [ 0.  0.  0.  0.  0.  0.  0.  0.  0. -1.  1.]]\n",
      "[0. 0. 0. 0. 0. 5. 0. 0. 0. 0. 0.]\n"
     ]
    }
   ],
   "source": [
    "stencil = np.array([1, -2, 1])\n",
    "matrix = np.zeros((11, 11))\n",
    "\n",
    "for i in range(1, 5):\n",
    "    matrix[i, i-1:i+2] = stencil\n",
    "for i in range(6, 10):\n",
    "    matrix[i, i-1:i+2] = stencil\n",
    "\n",
    "# Boundary conditions\n",
    "matrix[0, 0] = 1\n",
    "matrix[10, 9:11] = np.array([-1, 1])\n",
    "matrix[5, 5] = 1\n",
    "\n",
    "# Defining the image vector\n",
    "vector = np.zeros(11)\n",
    "vector[5] = 5\n",
    "\n",
    "print(matrix)\n",
    "print(vector)\n",
    "\n"
   ]
  },
  {
   "cell_type": "code",
   "execution_count": 3,
   "id": "a6e177fb-be99-4c10-bb4c-583b6e427307",
   "metadata": {},
   "outputs": [],
   "source": [
    "solution = np.linalg.solve(matrix, vector)"
   ]
  },
  {
   "cell_type": "code",
   "execution_count": 6,
   "id": "cde537b1-071e-46ac-a114-37943d00a68c",
   "metadata": {},
   "outputs": [
    {
     "data": {
      "text/plain": [
       "Text(0, 0.5, 'Smoke Units')"
      ]
     },
     "execution_count": 6,
     "metadata": {},
     "output_type": "execute_result"
    },
    {
     "data": {
      "image/png": "[encoded data removed]",
      "text/plain": [
       "<Figure size 640x480 with 1 Axes>"
      ]
     },
     "metadata": {},
     "output_type": "display_data"
    }
   ],
   "source": [
    "plt.plot(solution)\n",
    "plt.ylabel(\"Smoke Units\")"
   ]
  },
  {
   "cell_type": "code",
   "execution_count": null,
   "id": "6a7c3fae-c89d-4cf3-b1a1-bc6d339333c3",
   "metadata": {},
   "outputs": [],
   "source": []
  }
 ],
 "metadata": {
  "kernelspec": {
   "display_name": "Python 3 (ipykernel)",
   "language": "python",
   "name": "python3"
  },
  "language_info": {
   "codemirror_mode": {
    "name": "ipython",
    "version": 3
   },
   "file_extension": ".py",
   "mimetype": "text/x-python",
   "name": "python",
   "nbconvert_exporter": "python",
   "pygments_lexer": "ipython3",
   "version": "3.12.1"
  }
 },
 "nbformat": 4,
 "nbformat_minor": 5
}
