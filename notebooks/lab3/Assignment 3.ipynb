{
 "cells": [
  {
   "cell_type": "code",
   "execution_count": 1,
   "id": "e65efecf-e721-4608-bbcc-b3da4af3b368",
   "metadata": {},
   "outputs": [],
   "source": [
    "import numpy as np"
   ]
  },
  {
   "cell_type": "markdown",
   "id": "a86df027-12a7-4cc5-9f09-ffe314a7a993",
   "metadata": {},
   "source": [
    "# Assignment 3: Pollution Box Model"
   ]
  },
  {
   "cell_type": "markdown",
   "id": "f59fc5ee-b997-471f-b3d3-2004639d55c1",
   "metadata": {},
   "source": [
    "The pollution box model has 3 undetermined variables A, O, and F representing pollutant mass in the atmosphere, ocean and freshwater respectively. These variables are functions of time and governed by the following set of coupled ordinary differential equations:\n",
    "\n",
    "$$ A'(t) = P1 -L1(A/MA - O/MO) -L2(A/MA - F/MF) - L3 A $$\n",
    "$$ O'(t) = Q(F/MF) + L1(A/MA - O/MO) - L3 O $$\n",
    "$$ F'(t) = P2 - Q(F/MF) + L2(A/MA - F/MF) - L3 F $$\n",
    "\n",
    "Note that I have defined L1 and L2 such that positive flow is from the atmosphere to the ocean and to freshwater respectively.\n",
    "\n",
    "The system of equations can be rewritten as:\n",
    "$$ A'(t) - P1  = -((L1 + L2)/MA + L3) \\times A + L1/MO \\times O + L2/MF \\times F $$\n",
    "$$ O'(t)  = L1/MA \\times A - (L1/MO + L3) \\times O + Q/MF \\times F $$\n",
    "$$ F'(t) - P2 = L2/MA \\times A - (Q + L2 + L3)/MF \\times F$$\n",
    "\n",
    "Which again can be written as the matrix equation:\n",
    "\n",
    "$$\n",
    "\\begin{pmatrix}\n",
    "A'(t) - P1 \\\\\n",
    "O'(t) \\\\\n",
    "F'(t) - P2 \\\\\n",
    "\\end{pmatrix}=\n",
    "\\begin{pmatrix}\n",
    "-(L1+L2)/MA - L3 & L1/MO & L2/MF\\\\\n",
    "L1/MA & -L1/MO - L3 & Q/MF\\\\\n",
    "L2/MA & 0 & -(L2 + Q)/MF - L3\\\\\n",
    "\\end{pmatrix}\n",
    "\\begin{pmatrix}\n",
    "A \\\\\n",
    "O \\\\\n",
    "F \\\\\n",
    "\\end{pmatrix}\n",
    "$$\n",
    "\n",
    "As an augmented matrix:\n",
    "\\begin{pmatrix}\n",
    "-(L1+L2)/MA - L3 & L1/MO & L2/MF & | & A'(t) - P1 \\\\\n",
    "L1/MA & -L1/MO - L3 & Q/MF & | & O'(t) \\\\\n",
    "L2/MA & 0 & -(L2+Q)/MF - L3 & | & F'(t) - P2 \\\\\n",
    "\\end{pmatrix}\n"
   ]
  },
  {
   "cell_type": "markdown",
   "id": "f6be8430-55de-4de3-9262-b3b9d021663a",
   "metadata": {},
   "source": [
    "a) In steady state, we set $A'(t) = O'(t) = F'(t) = 0$. Thus the linear equation is:\n",
    "\n",
    "$$  - P1  = -((L1 + L2)/MA + L3) \\times A + L1/MO \\times O + L2/MF \\times F $$\n",
    "$$  0 = L1/MA \\times A - (L1/MO + L3) \\times O + Q/MF \\times F $$\n",
    "$$  - P2 = L2/MA \\times A - (Q + L2 + L3)/MF \\times F$$\n",
    "\n",
    "With augmented matrix form:\n",
    "\n",
    "\\begin{pmatrix}\n",
    "-(L1+L2)/MA - L3 & L1/MO & L2/MF & | &  - P1 \\\\\n",
    "L1/MA & -L1/MO - L3 & Q/MF & | &  0\\\\\n",
    "L2/MA & 0 & -(L2+Q)/MF - L3 & | & - P2 \\\\\n",
    "\\end{pmatrix}"
   ]
  },
  {
   "cell_type": "code",
   "execution_count": 2,
   "id": "7323dc01-b7a5-41e9-a781-94781a6c123d",
   "metadata": {},
   "outputs": [],
   "source": [
    "## Define the value of parameters:\n",
    "P1 = 1000\n",
    "P2 = 2000\n",
    "L1 = 200\n",
    "L2 = 500\n",
    "L3 = 0.05\n",
    "Q = 36e12\n",
    "MA = 5600e12\n",
    "MO = 50000e12\n",
    "MF = 360e12"
   ]
  },
  {
   "cell_type": "code",
   "execution_count": 3,
   "id": "328fb8d1-a383-4ae4-a837-36e9bd19d716",
   "metadata": {},
   "outputs": [],
   "source": [
    "## Define the coefficient matrix M\n",
    "M = np.array(\n",
    "    [[-(L1 + L2)/MA - L3, L1/MO, L2/MF],\n",
    "     [L1/MA, -L1/MO - L3, Q/MF],\n",
    "     [L2/MA, 0, -(L2+Q)/MF - L3]]\n",
    ")\n",
    "## Define the image vector\n",
    "V = np.array(\n",
    "    [-P1 ,  0, -P2 ]\n",
    ")"
   ]
  },
  {
   "cell_type": "code",
   "execution_count": 4,
   "id": "2fa17ed9-f571-43e3-a295-74e53dd70559",
   "metadata": {},
   "outputs": [
    {
     "data": {
      "text/plain": [
       "4.441518440124923"
      ]
     },
     "execution_count": 4,
     "metadata": {},
     "output_type": "execute_result"
    }
   ],
   "source": [
    "np.linalg.cond(M)"
   ]
  },
  {
   "cell_type": "markdown",
   "id": "f678ac0d-96a3-47ec-b519-0bb990bf17c0",
   "metadata": {},
   "source": [
    "This matrix is well-conditioned"
   ]
  },
  {
   "cell_type": "code",
   "execution_count": 5,
   "id": "40270475-cc67-4af3-886b-059a2d250304",
   "metadata": {},
   "outputs": [
    {
     "name": "stdout",
     "output_type": "stream",
     "text": [
      "In steady state, A = 20000.000000322503 tonnes, O = 26666.666666455712 tonnes, and F = 13333.333333221779 tonnes\n"
     ]
    }
   ],
   "source": [
    "## Find the solution vector \n",
    "A1, O1, F1 = np.linalg.solve(M, V)\n",
    "print(f\"In steady state, A = {A1} tonnes, O = {O1} tonnes, and F = {F1} tonnes\")"
   ]
  },
  {
   "cell_type": "markdown",
   "id": "65ec9169-39b8-4252-8905-ee9441340216",
   "metadata": {},
   "source": [
    "b) \n",
    "Mathematical Explanation:\n",
    "When L3 = 0, the coefficient matrix M' is singular, therefore no solutions exist. This can be easily shown with row operations:\n",
    "\n",
    "\\begin{pmatrix}\n",
    "-(L1+L2)/MA  & L1/MO & L2/MF & | &  - P1 \\\\\n",
    "L1/MA & -L1/MO  & Q/MF & | &  0\\\\\n",
    "L2/MA & 0 & -(L2+Q)/MF  & | & - P2 \\\\\n",
    "\\end{pmatrix}\n",
    "\n",
    "$R1 \\rightarrow R1 + R2 + R3:$\n",
    "\n",
    "\\begin{pmatrix}\n",
    "0 & 0 & 0 & | &  - P1 - P2\\\\\n",
    "L1/MA & -L1/MO  & Q/MF & | &  0\\\\\n",
    "L2/MA & 0 & -(L2+Q)/MF  & | & - P2 \\\\\n",
    "\\end{pmatrix}\n",
    "\n",
    "The first row yields an inconsistent linear equation $0A + 0O + 0F = - (P1 + P2)$. No solutions for exist for A, O, and F. This implies that the matrix is singular.\n",
    "\n",
    "Physical Explanation:\n",
    "A steady state solution cannot exist with L3 = 0 and nonzero P1 and P2. The total mass of pollutants in the system (due to influx from P1 and P2) is continuously increasing as the pollutants never decay. However for a steady state solution to be possible, the total mass of pollutants in the system must be constant."
   ]
  },
  {
   "cell_type": "code",
   "execution_count": 6,
   "id": "815bee7e-330f-45c4-9e01-7d6b58869f46",
   "metadata": {},
   "outputs": [
    {
     "name": "stdout",
     "output_type": "stream",
     "text": [
      "[-1.00000000e-01  1.19643201e-22 -1.29000000e-13]\n",
      "Singular matrix\n"
     ]
    }
   ],
   "source": [
    "M_prime = np.array(\n",
    "    [[-(L1 + L2)/MA , L1/MO, L2/MF],\n",
    "     [L1/MA, -L1/MO , Q/MF],\n",
    "     [L2/MA, 0, -(L2+Q)/MF ]]\n",
    ")\n",
    "print(np.linalg.eigvals(M_prime))\n",
    "try:\n",
    "    U = np.linalg.solve(M_prime, V)\n",
    "except Exception as error:\n",
    "    print(error)"
   ]
  },
  {
   "cell_type": "markdown",
   "id": "f08f423a-6478-44cc-b62d-7e1092e7def5",
   "metadata": {},
   "source": [
    "Running the above code yields ``LinAlgError: Singular matrix`` as expected."
   ]
  },
  {
   "cell_type": "markdown",
   "id": "f2c764d7-63be-4626-9c73-b0b367cec4e5",
   "metadata": {},
   "source": [
    "c.\n",
    "Mathematical argument:\n",
    "\n",
    "Suppose L3 = 0 and P1 = P2 = 0. Then:\n",
    "\n",
    "\\begin{pmatrix}\n",
    "-(L1+L2)/MA  & L1/MO & L2/MF & | &  0 \\\\\n",
    "L1/MA & -L1/MO  & Q/MF & | &  0\\\\\n",
    "L2/MA & 0 & -(L2+Q)/MF  & | & 0 \\\\\n",
    "\\end{pmatrix}\n",
    "\n",
    "$R1 \\rightarrow R1 + R2 + R3:$\n",
    "\n",
    "\\begin{pmatrix}\n",
    "0 & 0 & 0 & | &  0\\\\\n",
    "L1/MA & -L1/MO  & Q/MF & | &  0\\\\\n",
    "L2/MA & 0 & -(L2+Q)/MF  & | & 0 \\\\\n",
    "\\end{pmatrix}\n",
    "\n",
    "The first row equation is redundant as it does not impose any constraints on the variables. This results in 2 linear equations with 3 variables, therefore there is an extra degree of freedom resulting in infinite solutions.\n",
    "\n",
    "Physical Argument:\n",
    "\n",
    "This makes sense because when $P1=P2=0$, the system is closed and there is no pollutant mass entering the system, and total pollutant mass is constant, therefore a steady-state solution exists. However, the steady-state solution depends on how much initial pollutant mass is there in each body, which results in extra degrees of freedom that need to be specified in order to fully determine a solution.\n",
    "\n"
   ]
  },
  {
   "cell_type": "markdown",
   "id": "4f79011d-0cf1-4f76-8af3-17f79f753fff",
   "metadata": {},
   "source": [
    "d. In order to specify a single physical solution, an additional linear equation needs to be added to fully constrain all 3 variables. This can be done by setting $A + O + F = T$, where $T$ is a parameter specifying the total amount of pollutants in the system. In matrix form, this can be done by replacing one of the redundant rows with this equation.\n",
    "\n",
    "\\begin{pmatrix}\n",
    "1 & 1 & 1 & | &  T\\\\\n",
    "L1/MA & -L1/MO  & Q/MF & | &  0\\\\\n",
    "L2/MA & 0 & -(L2+Q)/MF  & | & 0 \\\\\n",
    "\\end{pmatrix}"
   ]
  },
  {
   "cell_type": "code",
   "execution_count": 7,
   "id": "a322ab53-b3ed-40dd-a4de-03c468dacc0e",
   "metadata": {},
   "outputs": [
    {
     "name": "stdout",
     "output_type": "stream",
     "text": [
      "[1.55038760e+02 4.84496124e+03 1.38427464e-10]\n"
     ]
    }
   ],
   "source": [
    "## Show that the matrix is now solvable.\n",
    "T = 5000\n",
    "\n",
    "M_new = np.array(\n",
    "    [[1 , 1, 1],\n",
    "     [L1/MA, -L1/MO , Q/MF],\n",
    "     [L2/MA, 0, -(L2+Q)/MF ]]\n",
    ")\n",
    "\n",
    "V_new = np.array(\n",
    "    [T ,  0, 0 ]\n",
    ")\n",
    "solution = np.linalg.solve(M_new, V_new)\n",
    "print(solution)"
   ]
  },
  {
   "cell_type": "code",
   "execution_count": null,
   "id": "3a109138-775b-47a3-b2d7-b1cc7f867d9c",
   "metadata": {},
   "outputs": [],
   "source": []
  }
 ],
 "metadata": {
  "kernelspec": {
   "display_name": "Python 3 (ipykernel)",
   "language": "python",
   "name": "python3"
  },
  "language_info": {
   "codemirror_mode": {
    "name": "ipython",
    "version": 3
   },
   "file_extension": ".py",
   "mimetype": "text/x-python",
   "name": "python",
   "nbconvert_exporter": "python",
   "pygments_lexer": "ipython3",
   "version": "3.12.1"
  }
 },
 "nbformat": 4,
 "nbformat_minor": 5
}
